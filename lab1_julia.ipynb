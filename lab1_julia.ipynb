{
 "cells": [
  {
   "cell_type": "code",
   "execution_count": 1,
   "metadata": {},
   "outputs": [],
   "source": [
    "# import CalculusWithJulia\n",
    "using Plots\n",
    "using Polynomials\n",
    "# using RealPolynomialRoots\n",
    "using DataFrames\n",
    "using Random\n",
    "using Printf\n",
    "using PrettyTables\n",
    "import SymPy\n",
    "using Latexify\n",
    "using LaTeXStrings\n",
    "\n",
    "function rep!(expression::Expr, rules::Dict)\n",
    "    for (i, a) in enumerate(expression.args)\n",
    "        if a isa Expr\n",
    "            rep!(a, rules)\n",
    "        else\n",
    "            for (old, new) in rules\n",
    "                if a == old\n",
    "                    expression.args[i] = new\n",
    "                end\n",
    "            end\n",
    "        end\n",
    "    end\n",
    "    expression\n",
    "end\n",
    "\n",
    "verbose = true\n",
    "print()"
   ]
  },
  {
   "attachments": {},
   "cell_type": "markdown",
   "metadata": {},
   "source": [
    "## Комп'ютерний практикум №1. Розв'язання нелінійних рівнянь.\n",
    "### Костюковець Остап ФБ-06\n",
    "### варіант 5"
   ]
  },
  {
   "cell_type": "code",
   "execution_count": 2,
   "metadata": {},
   "outputs": [
    {
     "data": {
      "text/latex": [
       "$f\\left( x \\right) = 12 - x^{3} - 3 \\cdot x^{4} + 4 \\cdot x^{5}$"
      ],
      "text/plain": [
       "L\"$f\\left( x \\right) = 12 - x^{3} - 3 \\cdot x^{4} + 4 \\cdot x^{5}$\""
      ]
     },
     "metadata": {},
     "output_type": "display_data"
    }
   ],
   "source": [
    "t = [-4, -2, 1, -3, 1]\n",
    "t2 = [60,-43,-21,3,1]\n",
    "my_coefs = [12, 0, 0, -1, -3, 4]\n",
    "\n",
    "f = Polynomial(my_coefs)\n",
    "P = Meta.parse(\"$f\")\n",
    "verbose ? display(@latexify f(x) = $P) : nothing\n"
   ]
  },
  {
   "attachments": {},
   "cell_type": "markdown",
   "metadata": {},
   "source": [
    "### Теорема Гюа"
   ]
  },
  {
   "cell_type": "code",
   "execution_count": 3,
   "metadata": {},
   "outputs": [
    {
     "data": {
      "text/latex": [
       "$\\ 0^{2} \\nless{12 \\cdot 0}$"
      ],
      "text/plain": [
       "L\"$\\ 0^{2} \\nless{12 \\cdot 0}$\""
      ]
     },
     "metadata": {},
     "output_type": "display_data"
    },
    {
     "data": {
      "text/latex": [
       "$\\ 0^{2} \\nless{0 \\cdot -1}$"
      ],
      "text/plain": [
       "L\"$\\ 0^{2} \\nless{0 \\cdot -1}$\""
      ]
     },
     "metadata": {},
     "output_type": "display_data"
    },
    {
     "data": {
      "text/latex": [
       "$\\ \\left( -1 \\right)^{2} \\nless{0 \\cdot -3}$"
      ],
      "text/plain": [
       "L\"$\\ \\left( -1 \\right)^{2} \\nless{0 \\cdot -3}$\""
      ]
     },
     "metadata": {},
     "output_type": "display_data"
    },
    {
     "data": {
      "text/latex": [
       "$\\ \\left( -3 \\right)^{2} \\nless{-1 \\cdot 4}$"
      ],
      "text/plain": [
       "L\"$\\ \\left( -3 \\right)^{2} \\nless{-1 \\cdot 4}$\""
      ]
     },
     "metadata": {},
     "output_type": "display_data"
    }
   ],
   "source": [
    "l = length(coeffs(f))\n",
    "for i in 1:l\n",
    "    if i + 2 > l\n",
    "        break\n",
    "    end\n",
    "    k = coeffs(f)[i:i+2]\n",
    "    if k[2]^2 < k[1] * k[3]\n",
    "        verbose ? display(@latexify $(k[2])^2 < $(k[1]) * $(k[3])) : nothing\n",
    "        verbose ? display(L\"\\text{ Існує хоча б одна пара комплексно спряжених коренів}\") : nothing\n",
    "        break\n",
    "    end\n",
    "    verbose ? display(@latexify $(k[2])^2 ≮ $(k[1]) * $(k[3])) : nothing\n",
    "end\n",
    "\n"
   ]
  },
  {
   "attachments": {},
   "cell_type": "markdown",
   "metadata": {},
   "source": [
    "### Кільце"
   ]
  },
  {
   "cell_type": "code",
   "execution_count": 4,
   "metadata": {},
   "outputs": [
    {
     "data": {
      "text/latex": [
       "$A = \\mathrm{max}\\left( \\left|a_i\\right| \\right)$ , $i=0,...,n-1$ $=$ $12$"
      ],
      "text/plain": [
       "L\"$A = \\mathrm{max}\\left( \\left|a_i\\right| \\right)$ , $i=0,...,n-1$ $=$ $12$\""
      ]
     },
     "metadata": {},
     "output_type": "display_data"
    },
    {
     "data": {
      "text/latex": [
       "$B = \\mathrm{max}\\left( \\left|a_i\\right| \\right)$ , $i=1,...,n$ $=$ $4$"
      ],
      "text/plain": [
       "L\"$B = \\mathrm{max}\\left( \\left|a_i\\right| \\right)$ , $i=1,...,n$ $=$ $4$\""
      ]
     },
     "metadata": {},
     "output_type": "display_data"
    },
    {
     "data": {
      "text/latex": [
       "\\begin{equation}\n",
       "\\frac{\\left|a_0\\right|}{B + \\left|a_0\\right|} = \\frac{\\left|12\\right|}{4 + \\left|12\\right|} = 0.75\n",
       "\\end{equation}\n"
      ],
      "text/plain": [
       "L\"\\begin{equation}\n",
       "\\frac{\\left|a_0\\right|}{B + \\left|a_0\\right|} = \\frac{\\left|12\\right|}{4 + \\left|12\\right|} = 0.75\n",
       "\\end{equation}\n",
       "\""
      ]
     },
     "metadata": {},
     "output_type": "display_data"
    },
    {
     "data": {
      "text/latex": [
       "\\begin{equation}\n",
       "\\frac{\\left|a_n\\right| + A}{\\left|a_n\\right|} = \\frac{\\left|4\\right| + 12}{\\left|4\\right|} = 4\n",
       "\\end{equation}\n"
      ],
      "text/plain": [
       "L\"\\begin{equation}\n",
       "\\frac{\\left|a_n\\right| + A}{\\left|a_n\\right|} = \\frac{\\left|4\\right| + 12}{\\left|4\\right|} = 4\n",
       "\\end{equation}\n",
       "\""
      ]
     },
     "metadata": {},
     "output_type": "display_data"
    },
    {
     "data": {
      "text/latex": [
       "\\begin{equation}\n",
       "\\left( 0.75 \\leq \\left|x\\right| \\leq 4 \\right)\n",
       "\\end{equation}\n"
      ],
      "text/plain": [
       "L\"\\begin{equation}\n",
       "\\left( 0.75 \\leq \\left|x\\right| \\leq 4 \\right)\n",
       "\\end{equation}\n",
       "\""
      ]
     },
     "metadata": {},
     "output_type": "display_data"
    }
   ],
   "source": [
    "A = maximum(abs.(coeffs(f)[1:end-1]))\n",
    "verbose ? display(L\"%$(@latexify A = max(abs(aᵢ))) , $i=0,...,n-1$ $=$ $%$A$\") : nothing\n",
    "\n",
    "B = maximum(abs.(coeffs(f)[2:end]))\n",
    "verbose ? display(L\"%$(@latexify B = max(abs(aᵢ))) , $i=1,...,n$ $=$ $%$B$\") : nothing\n",
    "\n",
    "\n",
    "a₀ = coeffs(f)[1]\n",
    "r_plus_low_expr = :(abs(a₀) / (B + abs(a₀)))\n",
    "R_plus_low = eval(r_plus_low_expr)\n",
    "\n",
    "verbose ? display(@latexify $r_plus_low_expr = $(rep!(copy(r_plus_low_expr), Dict(:a₀=>coeffs(f)[1], :B=>B))) = $R_plus_low env=:eq fmt=FancyNumberFormatter(2)) : nothing\n",
    "\n",
    "aₙ = coeffs(f)[end]\n",
    "r_plus_high_expr = :((abs(aₙ) + A) / abs(aₙ))\n",
    "R_plus_high = eval(r_plus_high_expr)\n",
    "\n",
    "verbose ? display(@latexify $r_plus_high_expr = $(rep!(copy(r_plus_high_expr), Dict(:aₙ=>coeffs(f)[end], :A=>A))) =  $R_plus_high env=:eq fmt=FancyNumberFormatter(2)) : nothing\n",
    "\n",
    "verbose ? display(@latexify $R_plus_low <= abs(x) <= $R_plus_high fmt=FancyNumberFormatter(2) env=:eq) : nothing\n"
   ]
  },
  {
   "attachments": {},
   "cell_type": "markdown",
   "metadata": {},
   "source": [
    "### Верхня межа"
   ]
  },
  {
   "cell_type": "code",
   "execution_count": 5,
   "metadata": {},
   "outputs": [
    {
     "data": {
      "text/latex": [
       "$P_1 = 12 - x^{3} - 3 \\cdot x^{4} + 4 \\cdot x^{5}$"
      ],
      "text/plain": [
       "L\"$P_1 = 12 - x^{3} - 3 \\cdot x^{4} + 4 \\cdot x^{5}$\""
      ]
     },
     "metadata": {},
     "output_type": "display_data"
    },
    {
     "data": {
      "text/latex": [
       "$B = \\mathrm{max}\\left( \\left|a_i\\right| \\right)$ , $aᵢ<0$ $=$ $3$"
      ],
      "text/plain": [
       "L\"$B = \\mathrm{max}\\left( \\left|a_i\\right| \\right)$ , $aᵢ<0$ $=$ $3$\""
      ]
     },
     "metadata": {},
     "output_type": "display_data"
    },
    {
     "data": {
      "text/latex": [
       "$m = \\mathrm{max}\\left( i \\right)$ , $aᵢ<0$ $=$ $4$"
      ],
      "text/plain": [
       "L\"$m = \\mathrm{max}\\left( i \\right)$ , $aᵢ<0$ $=$ $4$\""
      ]
     },
     "metadata": {},
     "output_type": "display_data"
    },
    {
     "data": {
      "text/latex": [
       "\\begin{equation}\n",
       "R_1 = 1 + \\left( \\frac{B}{a_n} \\right)^{\\frac{1}{n - m}} = 1 + \\left( \\frac{3}{4} \\right)^{\\frac{1}{5 - 4}} = 1.8\n",
       "\\end{equation}\n"
      ],
      "text/plain": [
       "L\"\\begin{equation}\n",
       "R_1 = 1 + \\left( \\frac{B}{a_n} \\right)^{\\frac{1}{n - m}} = 1 + \\left( \\frac{3}{4} \\right)^{\\frac{1}{5 - 4}} = 1.8\n",
       "\\end{equation}\n",
       "\""
      ]
     },
     "metadata": {},
     "output_type": "display_data"
    },
    {
     "data": {
      "text/latex": [
       "$P_2 = x^{n} \\cdot P\\left( \\frac{1}{x} \\right) = x^{5} \\cdot \\left( 12 - \\frac{1}{x^{3}} - \\frac{3}{x^{4}} + \\frac{4}{x^{5}} \\right) = 12 \\cdot x^{5} - x^{2} - 3 \\cdot x + 4$"
      ],
      "text/plain": [
       "L\"$P_2 = x^{n} \\cdot P\\left( \\frac{1}{x} \\right) = x^{5} \\cdot \\left( 12 - \\frac{1}{x^{3}} - \\frac{3}{x^{4}} + \\frac{4}{x^{5}} \\right) = 12 \\cdot x^{5} - x^{2} - 3 \\cdot x + 4$\""
      ]
     },
     "metadata": {},
     "output_type": "display_data"
    },
    {
     "data": {
      "text/latex": [
       "$B = \\mathrm{max}\\left( \\left|a_i\\right| \\right)$ , $aᵢ<0$ $=$ $3$"
      ],
      "text/plain": [
       "L\"$B = \\mathrm{max}\\left( \\left|a_i\\right| \\right)$ , $aᵢ<0$ $=$ $3$\""
      ]
     },
     "metadata": {},
     "output_type": "display_data"
    },
    {
     "data": {
      "text/latex": [
       "$m = \\mathrm{max}\\left( i \\right)$ , $aᵢ<0$ $=$ $2$"
      ],
      "text/plain": [
       "L\"$m = \\mathrm{max}\\left( i \\right)$ , $aᵢ<0$ $=$ $2$\""
      ]
     },
     "metadata": {},
     "output_type": "display_data"
    },
    {
     "data": {
      "text/latex": [
       "\\begin{equation}\n",
       "R_2 = 1 + \\left( \\frac{B}{a_n} \\right)^{\\frac{1}{n - m}} = 1 + \\left( \\frac{3}{12} \\right)^{\\frac{1}{5 - 2}} = 1.6\n",
       "\\end{equation}\n"
      ],
      "text/plain": [
       "L\"\\begin{equation}\n",
       "R_2 = 1 + \\left( \\frac{B}{a_n} \\right)^{\\frac{1}{n - m}} = 1 + \\left( \\frac{3}{12} \\right)^{\\frac{1}{5 - 2}} = 1.6\n",
       "\\end{equation}\n",
       "\""
      ]
     },
     "metadata": {},
     "output_type": "display_data"
    },
    {
     "data": {
      "text/latex": [
       "$P_3 = P\\left(  - x \\right) = -4 \\cdot x^{5} - 3 \\cdot x^{4} + x^{3} + 12 = -4 \\cdot x^{5} - 3 \\cdot x^{4} + x^{3} + 12$"
      ],
      "text/plain": [
       "L\"$P_3 = P\\left(  - x \\right) = -4 \\cdot x^{5} - 3 \\cdot x^{4} + x^{3} + 12 = -4 \\cdot x^{5} - 3 \\cdot x^{4} + x^{3} + 12$\""
      ]
     },
     "metadata": {},
     "output_type": "display_data"
    },
    {
     "data": {
      "text/latex": [
       "$P_3 = 4 \\cdot x^{5} + 3 \\cdot x^{4} - x^{3} - 12 = 0$"
      ],
      "text/plain": [
       "L\"$P_3 = 4 \\cdot x^{5} + 3 \\cdot x^{4} - x^{3} - 12 = 0$\""
      ]
     },
     "metadata": {},
     "output_type": "display_data"
    },
    {
     "data": {
      "text/latex": [
       "$B = \\mathrm{max}\\left( \\left|a_i\\right| \\right)$ , $aᵢ<0$ $=$ $12$"
      ],
      "text/plain": [
       "L\"$B = \\mathrm{max}\\left( \\left|a_i\\right| \\right)$ , $aᵢ<0$ $=$ $12$\""
      ]
     },
     "metadata": {},
     "output_type": "display_data"
    },
    {
     "data": {
      "text/latex": [
       "$m = \\mathrm{max}\\left( i \\right)$ , $aᵢ<0$ $=$ $3$"
      ],
      "text/plain": [
       "L\"$m = \\mathrm{max}\\left( i \\right)$ , $aᵢ<0$ $=$ $3$\""
      ]
     },
     "metadata": {},
     "output_type": "display_data"
    },
    {
     "data": {
      "text/latex": [
       "\\begin{equation}\n",
       "R_3 = 1 + \\left( \\frac{B}{a_n} \\right)^{\\frac{1}{n - m}} = 1 + \\left( \\frac{12}{4} \\right)^{\\frac{1}{5 - 3}} = 2.7\n",
       "\\end{equation}\n"
      ],
      "text/plain": [
       "L\"\\begin{equation}\n",
       "R_3 = 1 + \\left( \\frac{B}{a_n} \\right)^{\\frac{1}{n - m}} = 1 + \\left( \\frac{12}{4} \\right)^{\\frac{1}{5 - 3}} = 2.7\n",
       "\\end{equation}\n",
       "\""
      ]
     },
     "metadata": {},
     "output_type": "display_data"
    },
    {
     "data": {
      "text/latex": [
       "$P_4 = x^{n} \\cdot P\\left( \\frac{-1}{x} \\right) = x^{5} \\cdot \\left( 12 + x^{-3} - \\frac{3}{x^{4}} - \\frac{4}{x^{5}} \\right) = 12 \\cdot x^{5} + x^{2} - 3 \\cdot x - 4$"
      ],
      "text/plain": [
       "L\"$P_4 = x^{n} \\cdot P\\left( \\frac{-1}{x} \\right) = x^{5} \\cdot \\left( 12 + x^{-3} - \\frac{3}{x^{4}} - \\frac{4}{x^{5}} \\right) = 12 \\cdot x^{5} + x^{2} - 3 \\cdot x - 4$\""
      ]
     },
     "metadata": {},
     "output_type": "display_data"
    },
    {
     "data": {
      "text/latex": [
       "$B = \\mathrm{max}\\left( \\left|a_i\\right| \\right)$ , $aᵢ<0$ $=$ $4$"
      ],
      "text/plain": [
       "L\"$B = \\mathrm{max}\\left( \\left|a_i\\right| \\right)$ , $aᵢ<0$ $=$ $4$\""
      ]
     },
     "metadata": {},
     "output_type": "display_data"
    },
    {
     "data": {
      "text/latex": [
       "$m = \\mathrm{max}\\left( i \\right)$ , $aᵢ<0$ $=$ $1$"
      ],
      "text/plain": [
       "L\"$m = \\mathrm{max}\\left( i \\right)$ , $aᵢ<0$ $=$ $1$\""
      ]
     },
     "metadata": {},
     "output_type": "display_data"
    },
    {
     "data": {
      "text/latex": [
       "\\begin{equation}\n",
       "R_4 = 1 + \\left( \\frac{B}{a_n} \\right)^{\\frac{1}{n - m}} = 1 + \\left( \\frac{4}{12} \\right)^{\\frac{1}{5 - 1}} = 1.8\n",
       "\\end{equation}\n"
      ],
      "text/plain": [
       "L\"\\begin{equation}\n",
       "R_4 = 1 + \\left( \\frac{B}{a_n} \\right)^{\\frac{1}{n - m}} = 1 + \\left( \\frac{4}{12} \\right)^{\\frac{1}{5 - 1}} = 1.8\n",
       "\\end{equation}\n",
       "\""
      ]
     },
     "metadata": {},
     "output_type": "display_data"
    },
    {
     "data": {
      "text/latex": [
       " $\\left( \\frac{1}{R_2} \\leq x^+ \\leq R_1 \\right)$ ⇒ $\\left( 0.61 \\leq x^+ \\leq 1.8 \\right)$"
      ],
      "text/plain": [
       "L\" $\\left( \\frac{1}{R_2} \\leq x^+ \\leq R_1 \\right)$ ⇒ $\\left( 0.61 \\leq x^+ \\leq 1.8 \\right)$\""
      ]
     },
     "metadata": {},
     "output_type": "display_data"
    },
    {
     "data": {
      "text/latex": [
       " $\\left(  - R_3 \\leq x^- \\leq  - \\frac{1}{R_4} \\right)$ ⇒ $\\left( -2.7 \\leq x^- \\leq -0.57 \\right)$"
      ],
      "text/plain": [
       "L\" $\\left(  - R_3 \\leq x^- \\leq  - \\frac{1}{R_4} \\right)$ ⇒ $\\left( -2.7 \\leq x^- \\leq -0.57 \\right)$\""
      ]
     },
     "metadata": {},
     "output_type": "display_data"
    }
   ],
   "source": [
    "# using Symbolics\n",
    "# P1\n",
    "P₁ = P\n",
    "p1_coeffs = coeffs(f)\n",
    "verbose ? display(@latexdefine P₁) : nothing\n",
    "\n",
    "if p1_coeffs[end] < 0\n",
    "    p1_coeffs = -1 .* p1_coeffs\n",
    "    verbose ? display(@latexify P₁ = $(-P₁) = 0) : nothing\n",
    "end\n",
    "\n",
    "B = maximum(abs.([v for v in p1_coeffs if v < 0]))\n",
    "verbose ? display(L\"%$(@latexify B = max(abs(aᵢ))) , $aᵢ<0$ $=$ $%$B$\") : nothing;\n",
    "\n",
    "m = [i - 1 for (i, v) in enumerate(p1_coeffs) if v < 0][end]\n",
    "verbose ? display(L\"%$(@latexify m = max(i)) , $aᵢ<0$ $=$ $%$m$\") : nothing\n",
    "\n",
    "aₙ = p1_coeffs[end]\n",
    "n = length(p1_coeffs) - 1\n",
    "# r_plus_high_expr = :(1 + (B / aₙ)^(1 / (n - m)))\n",
    "R₁_expr = :(1 + (B / aₙ)^(1 / (n - m)))\n",
    "R₁ = eval(R₁_expr)\n",
    "x_plus_high = R₁\n",
    "\n",
    "verbose ? display(@latexify R₁ = $R₁_expr = $(rep!(copy(R₁_expr), Dict(:aₙ => p1_coeffs[end], :B => B, :n => n, :m => m))) = $R₁ env = :eq fmt = FancyNumberFormatter(2)) : nothing\n",
    "\n",
    "\n",
    "\n",
    "#P2\n",
    "SymPy.@syms x\n",
    "p2_tmp = x^n * eval(rep!(copy(P), Dict(:x => :(1 / x))))\n",
    "P₂ = SymPy.simplify(eval(p2_tmp))\n",
    "verbose ? display(@latexify P₂ = x^n * P(1 / x) = $p2_tmp = $P₂) : nothing\n",
    "\n",
    "x = variable()\n",
    "\n",
    "p2_coeffs = coeffs(eval(Meta.parse(SymPy.repr(P₂))))\n",
    "\n",
    "if p2_coeffs[end] < 0\n",
    "    p2_coeffs = -1 .* p2_coeffs\n",
    "    verbose ? display(@latexify P₂ = $(-P₂) = 0) : nothing\n",
    "end\n",
    "\n",
    "B = maximum(abs.([v for v in p2_coeffs if v < 0]))\n",
    "verbose ? display(L\"%$(@latexify B = max(abs(aᵢ))) , $aᵢ<0$ $=$ $%$B$\") : nothing\n",
    "\n",
    "m = [i - 1 for (i, v) in enumerate(p2_coeffs) if v < 0][end]\n",
    "verbose ? display(L\"%$(@latexify m = max(i)) , $aᵢ<0$ $=$ $%$m$\") : nothing\n",
    "\n",
    "aₙ = p2_coeffs[end]\n",
    "n = length(p2_coeffs) - 1\n",
    "R₂_expr = :(1 + (B / aₙ)^(1 / (n - m)))\n",
    "R₂ = eval(R₂_expr)\n",
    "x_plus_low = 1 / R₂\n",
    "\n",
    "verbose ? display(@latexify R₂ = $R₂_expr = $(rep!(copy(R₂_expr), Dict(:aₙ => p2_coeffs[end], :B => B, :n => n, :m => m))) = $R₂ env = :eq fmt = FancyNumberFormatter(2)) : nothing\n",
    "\n",
    "\n",
    "# P3\n",
    "SymPy.@syms x\n",
    "p3_tmp = eval(rep!(copy(P), Dict(:x => :(-x))))\n",
    "P₃ = SymPy.simplify(p3_tmp)\n",
    "verbose ? display(@latexify P₃ = P(-x) = $p3_tmp = $P₃) : nothing\n",
    "\n",
    "x = variable()\n",
    "\n",
    "p3_coeffs = coeffs(eval(Meta.parse(SymPy.repr(P₃))))\n",
    "\n",
    "if p3_coeffs[end] < 0\n",
    "    p3_coeffs = -1 .* p3_coeffs\n",
    "    verbose ? display(@latexify P₃ = $(-P₃) = 0) : nothing\n",
    "end\n",
    "\n",
    "B = maximum(abs.([v for v in p3_coeffs if v < 0]))\n",
    "verbose ? display(L\"%$(@latexify B = max(abs(aᵢ))) , $aᵢ<0$ $=$ $%$B$\") : nothing\n",
    "\n",
    "m = [i - 1 for (i, v) in enumerate(p3_coeffs) if v < 0][end]\n",
    "verbose ? display(L\"%$(@latexify m = max(i)) , $aᵢ<0$ $=$ $%$m$\") : nothing\n",
    "\n",
    "aₙ = p3_coeffs[end]\n",
    "n = length(p3_coeffs) - 1\n",
    "R₃_expr = :(1 + (B / aₙ)^(1 / (n - m)))\n",
    "R₃ = eval(R₃_expr)\n",
    "x_minus_low = -R₃\n",
    "\n",
    "verbose ? display(@latexify R₃ = $R₃_expr = $(rep!(copy(R₃_expr), Dict(:aₙ => p3_coeffs[end], :B => B, :n => n, :m => m))) = $R₃ env = :eq fmt = FancyNumberFormatter(2)) : nothing\n",
    "\n",
    "\n",
    "\n",
    "#P4\n",
    "SymPy.@syms x\n",
    "p4_tmp = x^n * eval(rep!(copy(P), Dict(:x => :(-1 / x))))\n",
    "P₄ = SymPy.simplify(eval(p4_tmp))\n",
    "verbose ? display(@latexify P₄ = x^n * P(-1 / x) = $p4_tmp = $P₄) : nothing\n",
    "\n",
    "x = variable()\n",
    "\n",
    "p4_coeffs = coeffs(eval(Meta.parse(SymPy.repr(P₄))))\n",
    "\n",
    "if p4_coeffs[end] < 0\n",
    "    p4_coeffs = -1 .* p4_coeffs\n",
    "    verbose ? display(@latexify P₄ = $(-P₄) = 0) : nothing\n",
    "end\n",
    "\n",
    "B = maximum(abs.([v for v in p4_coeffs if v < 0]))\n",
    "verbose ? display(L\"%$(@latexify B = max(abs(aᵢ))) , $aᵢ<0$ $=$ $%$B$\") : nothing\n",
    "\n",
    "m = [i - 1 for (i, v) in enumerate(p4_coeffs) if v < 0][end]\n",
    "verbose ? display(L\"%$(@latexify m = max(i)) , $aᵢ<0$ $=$ $%$m$\") : nothing\n",
    "\n",
    "aₙ = p4_coeffs[end]\n",
    "n = length(p4_coeffs) - 1\n",
    "R₄_expr = :(1 + (B / aₙ)^(1 / (n - m)))\n",
    "R₄ = eval(R₄_expr)\n",
    "x_minus_high = -1 / R₄\n",
    "\n",
    "verbose ? display(@latexify R₄ = $R₄_expr = $(rep!(copy(R₄_expr), Dict(:aₙ => p4_coeffs[end], :B => B, :n => n, :m => m))) = $R₄ env = :eq fmt = FancyNumberFormatter(2)) : nothing\n",
    "\n",
    "\n",
    "verbose ? display(L\" %$(@latexify 1 / R₂ <= x⁺ <= R₁) ⇒ %$(@latexify $x_plus_low <= x⁺ <= $x_plus_high fmt = FancyNumberFormatter(2))\") : nothing\n",
    "verbose ? display(L\" %$(@latexify -R₃ <= x⁻ <= -(1 / R₄)) ⇒ %$(@latexify $x_minus_low <= x⁻ <= $x_minus_high fmt = FancyNumberFormatter(2))\") : nothing\n",
    "\n",
    "print()"
   ]
  },
  {
   "attachments": {},
   "cell_type": "markdown",
   "metadata": {},
   "source": [
    "### Метод Штурма"
   ]
  },
  {
   "cell_type": "code",
   "execution_count": 6,
   "metadata": {},
   "outputs": [
    {
     "data": {
      "text/latex": [
       "$f_{0} =$ $12 - x^{3} - 3 \\cdot x^{4} + 4 \\cdot x^{5}$"
      ],
      "text/plain": [
       "L\"$f_{0} =$ $12 - x^{3} - 3 \\cdot x^{4} + 4 \\cdot x^{5}$\""
      ]
     },
     "metadata": {},
     "output_type": "display_data"
    },
    {
     "data": {
      "text/latex": [
       "$f_{1} =$ $-3 \\cdot x^{2} - 12 \\cdot x^{3} + 20 \\cdot x^{4}$"
      ],
      "text/plain": [
       "L\"$f_{1} =$ $-3 \\cdot x^{2} - 12 \\cdot x^{3} + 20 \\cdot x^{4}$\""
      ]
     },
     "metadata": {},
     "output_type": "display_data"
    },
    {
     "data": {
      "text/latex": [
       "$f_{2} =$ $-6 \\cdot x - 36 \\cdot x^{2} + 80 \\cdot x^{3}$"
      ],
      "text/plain": [
       "L\"$f_{2} =$ $-6 \\cdot x - 36 \\cdot x^{2} + 80 \\cdot x^{3}$\""
      ]
     },
     "metadata": {},
     "output_type": "display_data"
    },
    {
     "data": {
      "text/latex": [
       "$f_{3} =$ $-6 - 72 \\cdot x + 240 \\cdot x^{2}$"
      ],
      "text/plain": [
       "L\"$f_{3} =$ $-6 - 72 \\cdot x + 240 \\cdot x^{2}$\""
      ]
     },
     "metadata": {},
     "output_type": "display_data"
    },
    {
     "data": {
      "text/latex": [
       "$f_{4} =$ $-72 + 480 \\cdot x$"
      ],
      "text/plain": [
       "L\"$f_{4} =$ $-72 + 480 \\cdot x$\""
      ]
     },
     "metadata": {},
     "output_type": "display_data"
    },
    {
     "data": {
      "text/latex": [
       "$f_{5} =$ $480$"
      ],
      "text/plain": [
       "L\"$f_{5} =$ $480$\""
      ]
     },
     "metadata": {},
     "output_type": "display_data"
    },
    {
     "data": {
      "text/latex": [
       "$\\begin{array}{|r|c|c|c|c|c|c|c|c|}\n",
       "  \\hline\n",
       "   & \\textbf{-2.732} & \\textbf{-0.568} & \\textbf{0.614} & \\textbf{0.756} & \\textbf{0.827} & \\textbf{0.898} & \\textbf{1.182} & \\textbf{1.750} \\\\\\hline\n",
       "  f_{0} & - & + & + & + & + & + & + & + \\\\\\hline\n",
       "  f_{1} & + & + & - & - & + & + & + & + \\\\\\hline\n",
       "  f_{2} & - & - & + & + & + & + & + & + \\\\\\hline\n",
       "  f_{3} & + & + & + & + & + & + & + & + \\\\\\hline\n",
       "  f_{4} & - & - & + & + & + & + & + & + \\\\\\hline\n",
       "  f_{5} & + & + & + & + & + & + & + & + \\\\\\hline\n",
       "   & 5 & 4 & 2 & 2 & 0 & 0 & 0 & 0 \\\\\\hline\n",
       "\\end{array}\n",
       "$"
      ],
      "text/plain": [
       "L\"$\\begin{array}{|r|c|c|c|c|c|c|c|c|}\n",
       "  \\hline\n",
       "   & \\textbf{-2.732} & \\textbf{-0.568} & \\textbf{0.614} & \\textbf{0.756} & \\textbf{0.827} & \\textbf{0.898} & \\textbf{1.182} & \\textbf{1.750} \\\\\\hline\n",
       "  f_{0} & - & + & + & + & + & + & + & + \\\\\\hline\n",
       "  f_{1} & + & + & - & - & + & + & + & + \\\\\\hline\n",
       "  f_{2} & - & - & + & + & + & + & + & + \\\\\\hline\n",
       "  f_{3} & + & + & + & + & + & + & + & + \\\\\\hline\n",
       "  f_{4} & - & - & + & + & + & + & + & + \\\\\\hline\n",
       "  f_{5} & + & + & + & + & + & + & + & + \\\\\\hline\n",
       "   & 5 & 4 & 2 & 2 & 0 & 0 & 0 & 0 \\\\\\hline\n",
       "\\end{array}\n",
       "$\""
      ]
     },
     "metadata": {},
     "output_type": "display_data"
    },
    {
     "data": {
      "text/latex": [
       "$\\left( -2.7 < x < -0.57 \\right)$"
      ],
      "text/plain": [
       "L\"$\\left( -2.7 < x < -0.57 \\right)$\""
      ]
     },
     "metadata": {},
     "output_type": "display_data"
    }
   ],
   "source": [
    "f_tmp = copy(f)\n",
    "d_array = []\n",
    "\n",
    "f_idx = 0\n",
    "while f_tmp != 0\n",
    "\n",
    "    push!(d_array, f_tmp)\n",
    "\n",
    "    f_expr = Meta.parse(\"$f_tmp\")\n",
    "    verbose ? display(L\"$f_{%$f_idx} =$ %$(@latexify $f_expr)\") : nothing\n",
    "    f_idx += 1\n",
    "\n",
    "    f_tmp = derivative(f_tmp)\n",
    "end\n",
    "\n",
    "interval_minus = [x_minus_low, x_minus_high]\n",
    "interval_plus = [x_plus_low, x_plus_high]\n",
    "\n",
    "data_frame_dict = Dict()\n",
    "res = []\n",
    "\n",
    "eg_counter = 0 #edge case counter\n",
    "\n",
    "function bisect_sturm(interval)\n",
    "    global eg_counter\n",
    "    tmp = []\n",
    "    for i in interval\n",
    "        signs = [j(i) > 0 ? 1 : 0 for j in d_array]\n",
    "        count = sum(k != signs[idx] for (idx, k) in enumerate(signs[2:end]))\n",
    "        data_frame_dict[i] = push!(replace(signs, 1 => \"+\", 0 => \"-\"), count)\n",
    "        push!(tmp, count)\n",
    "    end\n",
    "\n",
    "    if tmp[1] - tmp[2] <= 1\n",
    "        push!(res, collect(zip(tmp, interval)))\n",
    "        return\n",
    "    end\n",
    "\n",
    "    eg_counter += 1\n",
    "    if eg_counter >= 5 # number of recursions allowed\n",
    "        eg_counter = 0\n",
    "        return\n",
    "    end\n",
    "\n",
    "    mid = 0\n",
    "    if interval[1] < interval[2]\n",
    "        mid = interval[2] + (interval[1] - interval[2]) / 2\n",
    "    else\n",
    "        mid = interval[1] + (interval[2] - interval[1]) / 2\n",
    "    end\n",
    "\n",
    "    bisect_sturm([interval[1], mid])\n",
    "    bisect_sturm([mid, interval[2]])\n",
    "end\n",
    "\n",
    "bisect_sturm(interval_minus)\n",
    "bisect_sturm(interval_plus)\n",
    "\n",
    "\n",
    "target_intervals = [[itvl[1][2], itvl[2][2]] for itvl in res if itvl[1][1] != itvl[2][1]]\n",
    "\n",
    "\n",
    "# table formatting \n",
    "_row_labels = []\n",
    "for i in 0:(f_idx-1)\n",
    "    push!(_row_labels, \"f_{$i}\")\n",
    "end\n",
    "push!(_row_labels, \"\")\n",
    "\n",
    "_header = []\n",
    "_data = []\n",
    "for (key, value) in sort(data_frame_dict)\n",
    "    push!(_header, @sprintf(\"%.3f\", key))\n",
    "    push!(_data, value)\n",
    "end\n",
    "\n",
    "_data = reduce(hcat, _data)\n",
    "\n",
    "\n",
    "display(latexstring(replace(pretty_table(String,\n",
    "        _data,\n",
    "        header=_header,\n",
    "        row_labels=_row_labels,\n",
    "        hlines=:all,\n",
    "        vlines=:all,\n",
    "        alignment=:c,\n",
    "        backend=Val(:latex),\n",
    "    ),\n",
    "    \"tabular\" => \"array\")))\n",
    "# \n",
    "\n",
    "# result intervals\n",
    "for (i, v) in enumerate(target_intervals)\n",
    "    verbose ? display(@latexify $(v[1]) < x < $(v[2]) fmt = FancyNumberFormatter(2)) : nothing\n",
    "end"
   ]
  },
  {
   "attachments": {},
   "cell_type": "markdown",
   "metadata": {},
   "source": [
    "### Метод Ньютона"
   ]
  },
  {
   "attachments": {},
   "cell_type": "markdown",
   "metadata": {},
   "source": [
    "```julia\n",
    "function newton(f, fp, x0)\n",
    "    atol = 1e-9\n",
    "    delta = Inf\n",
    "    n_iteration = 0\n",
    "    while (abs(delta) > atol)\n",
    "        n_iteration += 1\n",
    "        display(\"$n_iteration, $x0, $(abs(delta)) > $atol\")\n",
    "\n",
    "        delta = f(x0) / fp(x0)\n",
    "        x0 = x0 - delta\n",
    "    end\n",
    "\n",
    "    x0\n",
    "end\n",
    "\n",
    "for t in target_intervals\n",
    "    mid = t[1] < t[2] ? t[2] + (t[1] - t[2]) / 2 : t[1] + (t[2] - t[1]) / 2\n",
    "    f_der = derivative(f)\n",
    "    display(\"f = $f , f` = $f_der , mid = $mid\")\n",
    "\n",
    "    nn = newton(f, f_der, mid)\n",
    "    display(\"x = $nn\")\n",
    "end\n",
    "```"
   ]
  },
  {
   "cell_type": "code",
   "execution_count": 7,
   "metadata": {},
   "outputs": [
    {
     "data": {
      "text/plain": [
       "\"f = 12 - x^3 - 3*x^4 + 4*x^5 , f` = -3*x^2 - 12*x^3 + 20*x^4 , mid = -1.6501428381998404\""
      ]
     },
     "metadata": {},
     "output_type": "display_data"
    },
    {
     "data": {
      "text/plain": [
       "\"1, -1.6501428381998404, Inf > 1.0e-9\""
      ]
     },
     "metadata": {},
     "output_type": "display_data"
    },
    {
     "data": {
      "text/plain": [
       "\"2, -1.3682923473596302, 0.28185049084021024 > 1.0e-9\""
      ]
     },
     "metadata": {},
     "output_type": "display_data"
    },
    {
     "data": {
      "text/plain": [
       "\"3, -1.2093215486996542, 0.15897079865997604 > 1.0e-9\""
      ]
     },
     "metadata": {},
     "output_type": "display_data"
    },
    {
     "data": {
      "text/plain": [
       "\"4, -1.1591014085399225, 0.05022014015973174 > 1.0e-9\""
      ]
     },
     "metadata": {},
     "output_type": "display_data"
    },
    {
     "data": {
      "text/plain": [
       "\"5, -1.1546348403831304, 0.004466568156792173 > 1.0e-9\""
      ]
     },
     "metadata": {},
     "output_type": "display_data"
    },
    {
     "data": {
      "text/plain": [
       "\"6, -1.1546018560112912, 3.29843718392285e-5 > 1.0e-9\""
      ]
     },
     "metadata": {},
     "output_type": "display_data"
    },
    {
     "data": {
      "text/plain": [
       "\"7, -1.154601854225264, 1.786027057856437e-9 > 1.0e-9\""
      ]
     },
     "metadata": {},
     "output_type": "display_data"
    },
    {
     "data": {
      "text/plain": [
       "\"x = -1.154601854225264\""
      ]
     },
     "metadata": {},
     "output_type": "display_data"
    }
   ],
   "source": [
    "function newton(f, fp, x0)\n",
    "    atol = 1e-9\n",
    "    delta = Inf\n",
    "    n_iteration = 0\n",
    "    while (abs(delta) > atol)\n",
    "        n_iteration += 1\n",
    "        display(\"$n_iteration, $x0, $(abs(delta)) > $atol\")\n",
    "\n",
    "        delta = f(x0) / fp(x0)\n",
    "        x0 = x0 - delta\n",
    "    end\n",
    "\n",
    "    x0\n",
    "end\n",
    "\n",
    "for t in target_intervals\n",
    "    mid = t[1] < t[2] ? t[2] + (t[1] - t[2]) / 2 : t[1] + (t[2] - t[1]) / 2\n",
    "    f_der = derivative(f)\n",
    "    display(\"f = $f , f` = $f_der , mid = $mid\")\n",
    "\n",
    "    nn = newton(f, f_der, mid)\n",
    "    display(\"x = $nn\")\n",
    "end"
   ]
  },
  {
   "attachments": {},
   "cell_type": "markdown",
   "metadata": {},
   "source": [
    "### Метод Бісекції"
   ]
  },
  {
   "attachments": {},
   "cell_type": "markdown",
   "metadata": {},
   "source": [
    "```julia\n",
    "function bisection(f, a, b)\n",
    "    atol = 1e-9\n",
    "    fa = f(a)\n",
    "    n_iteration = 0\n",
    "    local c\n",
    "    while b - a > atol\n",
    "        c = (a + b) / 2\n",
    "        fc = f(c)\n",
    "\n",
    "        n_iteration += 1\n",
    "        display(\"$n_iteration, $c, $(b-a) > $atol\")\n",
    "\n",
    "        if fc == 0\n",
    "            break\n",
    "        elseif fa * fc > 0\n",
    "            a = c  # Root is in the right half of [a,b].\n",
    "            fa = fc\n",
    "        else\n",
    "            b = c  # Root is in the left half of [a,b].\n",
    "        end\n",
    "    end\n",
    "    return c\n",
    "end\n",
    "\n",
    "for t in target_intervals\n",
    "    display(\"f = $f , a = $(t[1]) , b = $(t[2])\")\n",
    "    nn = bisection(f, t[1], t[2])\n",
    "    display(\"x = $nn\")\n",
    "end\n",
    "```"
   ]
  },
  {
   "cell_type": "code",
   "execution_count": 8,
   "metadata": {},
   "outputs": [
    {
     "data": {
      "text/plain": [
       "\"f = 12 - x^3 - 3*x^4 + 4*x^5 , a = -2.732050807568877 , b = -0.5682348688308035\""
      ]
     },
     "metadata": {},
     "output_type": "display_data"
    },
    {
     "data": {
      "text/plain": [
       "\"1, -1.6501428381998404, 2.1638159387380735 > 1.0e-9\""
      ]
     },
     "metadata": {},
     "output_type": "display_data"
    },
    {
     "data": {
      "text/plain": [
       "\"2, -1.109188853515322, 1.0819079693690368 > 1.0e-9\""
      ]
     },
     "metadata": {},
     "output_type": "display_data"
    },
    {
     "data": {
      "text/plain": [
       "\"3, -1.3796658458575812, 0.5409539846845184 > 1.0e-9\""
      ]
     },
     "metadata": {},
     "output_type": "display_data"
    },
    {
     "data": {
      "text/plain": [
       "\"4, -1.2444273496864517, 0.2704769923422592 > 1.0e-9\""
      ]
     },
     "metadata": {},
     "output_type": "display_data"
    },
    {
     "data": {
      "text/plain": [
       "\"5, -1.176808101600887, 0.1352384961711297 > 1.0e-9\""
      ]
     },
     "metadata": {},
     "output_type": "display_data"
    },
    {
     "data": {
      "text/plain": [
       "\"6, -1.1429984775581046, 0.06761924808556485 > 1.0e-9\""
      ]
     },
     "metadata": {},
     "output_type": "display_data"
    },
    {
     "data": {
      "text/plain": [
       "\"7, -1.1599032895794958, 0.033809624042782316 > 1.0e-9\""
      ]
     },
     "metadata": {},
     "output_type": "display_data"
    },
    {
     "data": {
      "text/plain": [
       "\"8, -1.1514508835688002, 0.01690481202139127 > 1.0e-9\""
      ]
     },
     "metadata": {},
     "output_type": "display_data"
    },
    {
     "data": {
      "text/plain": [
       "\"9, -1.1556770865741481, 0.008452406010695634 > 1.0e-9\""
      ]
     },
     "metadata": {},
     "output_type": "display_data"
    },
    {
     "data": {
      "text/plain": [
       "\"10, -1.1535639850714743, 0.004226203005347928 > 1.0e-9\""
      ]
     },
     "metadata": {},
     "output_type": "display_data"
    },
    {
     "data": {
      "text/plain": [
       "\"11, -1.1546205358228112, 0.002113101502673853 > 1.0e-9\""
      ]
     },
     "metadata": {},
     "output_type": "display_data"
    },
    {
     "data": {
      "text/plain": [
       "\"12, -1.1540922604471429, 0.0010565507513369266 > 1.0e-9\""
      ]
     },
     "metadata": {},
     "output_type": "display_data"
    },
    {
     "data": {
      "text/plain": [
       "\"13, -1.154356398134977, 0.0005282753756683523 > 1.0e-9\""
      ]
     },
     "metadata": {},
     "output_type": "display_data"
    },
    {
     "data": {
      "text/plain": [
       "\"14, -1.154488466978894, 0.00026413768783428715 > 1.0e-9\""
      ]
     },
     "metadata": {},
     "output_type": "display_data"
    },
    {
     "data": {
      "text/plain": [
       "\"15, -1.1545545014008525, 0.0001320688439172546 > 1.0e-9\""
      ]
     },
     "metadata": {},
     "output_type": "display_data"
    },
    {
     "data": {
      "text/plain": [
       "\"16, -1.154587518611832, 6.603442195873832e-5 > 1.0e-9\""
      ]
     },
     "metadata": {},
     "output_type": "display_data"
    },
    {
     "data": {
      "text/plain": [
       "\"17, -1.1546040272173217, 3.301721097925814e-5 > 1.0e-9\""
      ]
     },
     "metadata": {},
     "output_type": "display_data"
    },
    {
     "data": {
      "text/plain": [
       "\"18, -1.1545957729145768, 1.650860548974009e-5 > 1.0e-9\""
      ]
     },
     "metadata": {},
     "output_type": "display_data"
    },
    {
     "data": {
      "text/plain": [
       "\"19, -1.1545999000659493, 8.254302744870046e-6 > 1.0e-9\""
      ]
     },
     "metadata": {},
     "output_type": "display_data"
    },
    {
     "data": {
      "text/plain": [
       "\"20, -1.1546019636416354, 4.127151372435023e-6 > 1.0e-9\""
      ]
     },
     "metadata": {},
     "output_type": "display_data"
    },
    {
     "data": {
      "text/plain": [
       "\"21, -1.1546009318537922, 2.063575686106489e-6 > 1.0e-9\""
      ]
     },
     "metadata": {},
     "output_type": "display_data"
    },
    {
     "data": {
      "text/plain": [
       "\"22, -1.1546014477477138, 1.0317878431642669e-6 > 1.0e-9\""
      ]
     },
     "metadata": {},
     "output_type": "display_data"
    },
    {
     "data": {
      "text/plain": [
       "\"23, -1.1546017056946747, 5.158939215821334e-7 > 1.0e-9\""
      ]
     },
     "metadata": {},
     "output_type": "display_data"
    },
    {
     "data": {
      "text/plain": [
       "\"24, -1.154601834668155, 2.579469606800444e-7 > 1.0e-9\""
      ]
     },
     "metadata": {},
     "output_type": "display_data"
    },
    {
     "data": {
      "text/plain": [
       "\"25, -1.1546018991548952, 1.289734803400222e-7 > 1.0e-9\""
      ]
     },
     "metadata": {},
     "output_type": "display_data"
    },
    {
     "data": {
      "text/plain": [
       "\"26, -1.1546018669115252, 6.44867401700111e-8 > 1.0e-9\""
      ]
     },
     "metadata": {},
     "output_type": "display_data"
    },
    {
     "data": {
      "text/plain": [
       "\"27, -1.1546018507898401, 3.2243370196027854e-8 > 1.0e-9\""
      ]
     },
     "metadata": {},
     "output_type": "display_data"
    },
    {
     "data": {
      "text/plain": [
       "\"28, -1.1546018588506826, 1.6121685098013927e-8 > 1.0e-9\""
      ]
     },
     "metadata": {},
     "output_type": "display_data"
    },
    {
     "data": {
      "text/plain": [
       "\"29, -1.1546018548202612, 8.060842437984661e-9 > 1.0e-9\""
      ]
     },
     "metadata": {},
     "output_type": "display_data"
    },
    {
     "data": {
      "text/plain": [
       "\"30, -1.1546018528050506, 4.030421107970028e-9 > 1.0e-9\""
      ]
     },
     "metadata": {},
     "output_type": "display_data"
    },
    {
     "data": {
      "text/plain": [
       "\"31, -1.154601853812656, 2.0152106650073165e-9 > 1.0e-9\""
      ]
     },
     "metadata": {},
     "output_type": "display_data"
    },
    {
     "data": {
      "text/plain": [
       "\"32, -1.1546018543164585, 1.0076053325036582e-9 > 1.0e-9\""
      ]
     },
     "metadata": {},
     "output_type": "display_data"
    },
    {
     "data": {
      "text/plain": [
       "\"x = -1.1546018543164585\""
      ]
     },
     "metadata": {},
     "output_type": "display_data"
    }
   ],
   "source": [
    "function bisection(f, a, b)\n",
    "    atol = 1e-9\n",
    "    fa = f(a)\n",
    "    n_iteration = 0\n",
    "    local c\n",
    "    while b - a > atol\n",
    "        c = (a + b) / 2\n",
    "        fc = f(c)\n",
    "\n",
    "        n_iteration += 1\n",
    "        display(\"$n_iteration, $c, $(b-a) > $atol\")\n",
    "\n",
    "        if fc == 0\n",
    "            break\n",
    "        elseif fa * fc > 0\n",
    "            a = c  # Root is in the right half of [a,b].\n",
    "            fa = fc\n",
    "        else\n",
    "            b = c  # Root is in the left half of [a,b].\n",
    "        end\n",
    "    end\n",
    "    return c\n",
    "end\n",
    "\n",
    "for t in target_intervals\n",
    "    display(\"f = $f , a = $(t[1]) , b = $(t[2])\")\n",
    "    nn = bisection(f, t[1], t[2])\n",
    "    display(\"x = $nn\")\n",
    "end"
   ]
  },
  {
   "attachments": {},
   "cell_type": "markdown",
   "metadata": {},
   "source": [
    "### Метод Хорд"
   ]
  },
  {
   "attachments": {},
   "cell_type": "markdown",
   "metadata": {},
   "source": [
    "```julia\n",
    "function secant(f, x0, x1)\n",
    "    atol = 1e-9\n",
    "    n_iteration = 0\n",
    "    while abs(x1 - x0) > atol\n",
    "        y1 = f(x1)\n",
    "        y0 = f(x0)\n",
    "\n",
    "        x2 = x0 - y0 * (x1 - x0) / (y1 - y0)\n",
    "\n",
    "        n_iteration += 1\n",
    "        display(\"$n_iteration, $x2, $(abs(x2 - x0)) > $atol\")\n",
    "\n",
    "        x0, x1 = x1, x2\n",
    "    end\n",
    "    x1\n",
    "end\n",
    "\n",
    "for t in target_intervals\n",
    "    display(\"f = $f , a = $(t[1]) , b = $(t[2])\")\n",
    "    nn = secant(f, t[1], t[2])\n",
    "    display(\"x = $nn\")\n",
    "end\n",
    "```"
   ]
  },
  {
   "cell_type": "code",
   "execution_count": 9,
   "metadata": {},
   "outputs": [
    {
     "data": {
      "text/plain": [
       "\"f = 12 - x^3 - 3*x^4 + 4*x^5 , a = -2.732050807568877 , b = -0.5682348688308035\""
      ]
     },
     "metadata": {},
     "output_type": "display_data"
    },
    {
     "data": {
      "text/plain": [
       "\"1, -0.6015671712901529, 2.1304836362787243 > 1.0e-9\""
      ]
     },
     "metadata": {},
     "output_type": "display_data"
    },
    {
     "data": {
      "text/plain": [
       "\"2, -3.6946402088347097, 3.126405340003906 > 1.0e-9\""
      ]
     },
     "metadata": {},
     "output_type": "display_data"
    },
    {
     "data": {
      "text/plain": [
       "\"3, -0.6124814906764656, 0.01091431938631271 > 1.0e-9\""
      ]
     },
     "metadata": {},
     "output_type": "display_data"
    },
    {
     "data": {
      "text/plain": [
       "\"4, -0.6233131596257384, 3.0713270492089713 > 1.0e-9\""
      ]
     },
     "metadata": {},
     "output_type": "display_data"
    },
    {
     "data": {
      "text/plain": [
       "\"5, -3.1035529464543856, 2.49107145577792 > 1.0e-9\""
      ]
     },
     "metadata": {},
     "output_type": "display_data"
    },
    {
     "data": {
      "text/plain": [
       "\"6, -0.6435382893308901, 0.020225129705151668 > 1.0e-9\""
      ]
     },
     "metadata": {},
     "output_type": "display_data"
    },
    {
     "data": {
      "text/plain": [
       "\"7, -0.6634197834768512, 2.4401331629775345 > 1.0e-9\""
      ]
     },
     "metadata": {},
     "output_type": "display_data"
    },
    {
     "data": {
      "text/plain": [
       "\"8, -2.6218850773497424, 1.9783467880188523 > 1.0e-9\""
      ]
     },
     "metadata": {},
     "output_type": "display_data"
    },
    {
     "data": {
      "text/plain": [
       "\"9, -0.6988720909760486, 0.03545230749919748 > 1.0e-9\""
      ]
     },
     "metadata": {},
     "output_type": "display_data"
    },
    {
     "data": {
      "text/plain": [
       "\"10, -0.7329557712367369, 1.8889293061130055 > 1.0e-9\""
      ]
     },
     "metadata": {},
     "output_type": "display_data"
    },
    {
     "data": {
      "text/plain": [
       "\"11, -2.0472303889052714, 1.3483582979292228 > 1.0e-9\""
      ]
     },
     "metadata": {},
     "output_type": "display_data"
    },
    {
     "data": {
      "text/plain": [
       "\"12, -0.8081729551614554, 0.07521718392471843 > 1.0e-9\""
      ]
     },
     "metadata": {},
     "output_type": "display_data"
    },
    {
     "data": {
      "text/plain": [
       "\"13, -0.8739762524285897, 1.1732541364766818 > 1.0e-9\""
      ]
     },
     "metadata": {},
     "output_type": "display_data"
    },
    {
     "data": {
      "text/plain": [
       "\"14, -1.4632021121071552, 0.6550291569456999 > 1.0e-9\""
      ]
     },
     "metadata": {},
     "output_type": "display_data"
    },
    {
     "data": {
      "text/plain": [
       "\"15, -1.0263755976402236, 0.1523993452116339 > 1.0e-9\""
      ]
     },
     "metadata": {},
     "output_type": "display_data"
    },
    {
     "data": {
      "text/plain": [
       "\"16, -1.100447434307061, 0.3627546778000943 > 1.0e-9\""
      ]
     },
     "metadata": {},
     "output_type": "display_data"
    },
    {
     "data": {
      "text/plain": [
       "\"17, -1.1679823546665689, 0.1416067570263453 > 1.0e-9\""
      ]
     },
     "metadata": {},
     "output_type": "display_data"
    },
    {
     "data": {
      "text/plain": [
       "\"18, -1.1533720727740127, 0.05292463846695172 > 1.0e-9\""
      ]
     },
     "metadata": {},
     "output_type": "display_data"
    },
    {
     "data": {
      "text/plain": [
       "\"19, -1.1545751158986726, 0.01340723876789629 > 1.0e-9\""
      ]
     },
     "metadata": {},
     "output_type": "display_data"
    },
    {
     "data": {
      "text/plain": [
       "\"20, -1.1546019082591963, 0.001229835485183628 > 1.0e-9\""
      ]
     },
     "metadata": {},
     "output_type": "display_data"
    },
    {
     "data": {
      "text/plain": [
       "\"21, -1.1546018542228924, 2.673832421984379e-5 > 1.0e-9\""
      ]
     },
     "metadata": {},
     "output_type": "display_data"
    },
    {
     "data": {
      "text/plain": [
       "\"22, -1.154601854225264, 5.4033932217478764e-8 > 1.0e-9\""
      ]
     },
     "metadata": {},
     "output_type": "display_data"
    },
    {
     "data": {
      "text/plain": [
       "\"x = -1.154601854225264\""
      ]
     },
     "metadata": {},
     "output_type": "display_data"
    }
   ],
   "source": [
    "function secant(f, x0, x1)\n",
    "    atol = 1e-9\n",
    "    n_iteration = 0\n",
    "    while abs(x1 - x0) > atol\n",
    "        y1 = f(x1)\n",
    "        y0 = f(x0)\n",
    "\n",
    "        x2 = x0 - y0 * (x1 - x0) / (y1 - y0)\n",
    "\n",
    "        n_iteration += 1\n",
    "        display(\"$n_iteration, $x2, $(abs(x2 - x0)) > $atol\")\n",
    "\n",
    "        x0, x1 = x1, x2\n",
    "    end\n",
    "    x1\n",
    "end\n",
    "\n",
    "for t in target_intervals\n",
    "    display(\"f = $f , a = $(t[1]) , b = $(t[2])\")\n",
    "    nn = secant(f, t[1], t[2])\n",
    "    display(\"x = $nn\")\n",
    "end\n",
    "\n"
   ]
  }
 ],
 "metadata": {
  "kernelspec": {
   "display_name": "Julia 1.8.5",
   "language": "julia",
   "name": "julia-1.8"
  },
  "language_info": {
   "file_extension": ".jl",
   "mimetype": "application/julia",
   "name": "julia",
   "version": "1.8.5"
  },
  "orig_nbformat": 4,
  "vscode": {
   "interpreter": {
    "hash": "e7370f93d1d0cde622a1f8e1c04877d8463912d04d973331ad4851f04de6915a"
   }
  }
 },
 "nbformat": 4,
 "nbformat_minor": 2
}
